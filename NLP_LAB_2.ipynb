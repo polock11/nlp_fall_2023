{
  "nbformat": 4,
  "nbformat_minor": 0,
  "metadata": {
    "colab": {
      "provenance": [],
      "authorship_tag": "ABX9TyPVQbg0sM7BebfcRmW4hLH+",
      "include_colab_link": true
    },
    "kernelspec": {
      "name": "python3",
      "display_name": "Python 3"
    },
    "language_info": {
      "name": "python"
    }
  },
  "cells": [
    {
      "cell_type": "markdown",
      "metadata": {
        "id": "view-in-github",
        "colab_type": "text"
      },
      "source": [
        "<a href=\"https://colab.research.google.com/github/polock11/nlp_fall_2023/blob/main/NLP_LAB_2.ipynb\" target=\"_parent\"><img src=\"https://colab.research.google.com/assets/colab-badge.svg\" alt=\"Open In Colab\"/></a>"
      ]
    },
    {
      "cell_type": "code",
      "source": [
        "!pip install fuzzywuzzy\n",
        "!pip install fasttext\n",
        "\n",
        "import nltk\n",
        "\n",
        "from nltk.corpus import wordnet as wn\n",
        "from fuzzywuzzy import fuzz\n",
        "from nltk import WordPunctTokenizer\n",
        "from nltk.corpus import stopwords\n",
        "from nltk.corpus import wordnet\n",
        "from nltk.stem import WordNetLemmatizer\n",
        "\n",
        "\n",
        "\n",
        "import fasttext\n",
        "import numpy as np\n",
        "from sklearn.metrics.pairwise import cosine_similarity\n",
        "import gensim.downloader as api\n",
        "\n",
        "\n",
        "nltk.download('stopwords')\n",
        "nltk.download('wordnet')"
      ],
      "metadata": {
        "colab": {
          "base_uri": "https://localhost:8080/"
        },
        "id": "1nEALuxNzJeG",
        "outputId": "681d242c-facb-4e77-fb3a-23ef73c9c0ad"
      },
      "execution_count": null,
      "outputs": [
        {
          "output_type": "stream",
          "name": "stdout",
          "text": [
            "Requirement already satisfied: fuzzywuzzy in /usr/local/lib/python3.10/dist-packages (0.18.0)\n",
            "Requirement already satisfied: fasttext in /usr/local/lib/python3.10/dist-packages (0.9.2)\n",
            "Requirement already satisfied: pybind11>=2.2 in /usr/local/lib/python3.10/dist-packages (from fasttext) (2.11.1)\n",
            "Requirement already satisfied: setuptools>=0.7.0 in /usr/local/lib/python3.10/dist-packages (from fasttext) (67.7.2)\n",
            "Requirement already satisfied: numpy in /usr/local/lib/python3.10/dist-packages (from fasttext) (1.23.5)\n"
          ]
        },
        {
          "output_type": "stream",
          "name": "stderr",
          "text": [
            "[nltk_data] Downloading package stopwords to /root/nltk_data...\n",
            "[nltk_data]   Package stopwords is already up-to-date!\n",
            "[nltk_data] Downloading package wordnet to /root/nltk_data...\n",
            "[nltk_data]   Package wordnet is already up-to-date!\n"
          ]
        },
        {
          "output_type": "execute_result",
          "data": {
            "text/plain": [
              "True"
            ]
          },
          "metadata": {},
          "execution_count": 94
        }
      ]
    },
    {
      "cell_type": "markdown",
      "source": [
        "<h1>Problem 1</h1>"
      ],
      "metadata": {
        "id": "Np3s9ULJMK07"
      }
    },
    {
      "cell_type": "markdown",
      "source": [
        "Synsets for two words"
      ],
      "metadata": {
        "id": "EU9PWL9_RGB5"
      }
    },
    {
      "cell_type": "code",
      "execution_count": null,
      "metadata": {
        "id": "QYK8GWIWxdzX"
      },
      "outputs": [],
      "source": [
        "word_one  = 'walk'\n",
        "word_two = 'run'\n",
        "\n",
        "for synset in  wn.synsets(word_one):\n",
        "    print(synset)\n",
        "    print(\"Definition:\", synset.definition())\n",
        "    print('Example:', synset.examples())\n",
        "    print('Lemma Names:',synset.lemma_names())\n",
        "\n"
      ]
    },
    {
      "cell_type": "code",
      "source": [
        "for synset in  wn.synsets(word_two):\n",
        "    print(synset)\n",
        "    print(\"Definition:\", synset.definition())\n",
        "    print('Example:', synset.examples())\n",
        "    print('Lemma Names:',synset.lemma_names())\n"
      ],
      "metadata": {
        "id": "F7mJ9lxUPf9g"
      },
      "execution_count": null,
      "outputs": []
    },
    {
      "cell_type": "markdown",
      "source": [
        "Hyponyms:"
      ],
      "metadata": {
        "id": "rSU6BbXFRk8O"
      }
    },
    {
      "cell_type": "code",
      "source": [
        "synsets = wn.synsets(word_one)\n",
        "for synset in synsets:\n",
        "    print(f'Synset: {synset}')\n",
        "    for lemma in synset.lemmas():\n",
        "        print(f'-->Lemma: {lemma}')\n",
        "        print(f'-->Lemma_Name: {lemma.name()}')\n",
        "\n",
        "synsets = wn.synsets(word_two)\n",
        "for synset in synsets:\n",
        "    print(f'Synset: {synset}')\n",
        "    for lemma in synset.lemmas():\n",
        "        print(f'-->Lemma: {lemma}')\n",
        "        print(f'-->Lemma_Name: {lemma.name()}')"
      ],
      "metadata": {
        "id": "BbOf8bU-UzCz"
      },
      "execution_count": null,
      "outputs": []
    },
    {
      "cell_type": "markdown",
      "source": [
        "<h1>Hypernyms</h1>"
      ],
      "metadata": {
        "id": "3Mh4JcV4zpHX"
      }
    },
    {
      "cell_type": "code",
      "source": [
        "synsets = wn.synsets(word_one)\n",
        "\n",
        "for synset in synsets:\n",
        "    syn = synset\n",
        "    hypernym = syn.hypernyms()\n",
        "    for h_name in hypernym:\n",
        "        paths = h_name.hypernym_paths()\n",
        "        for synset in paths:\n",
        "            print(synset)\n",
        "\n",
        "synsets = wn.synsets(word_two)\n",
        "\n",
        "for synset in synsets:\n",
        "    syn = synset\n",
        "    hypernym = syn.hypernyms()\n",
        "    for h_name in hypernym:\n",
        "        paths = h_name.hypernym_paths()\n",
        "        for synset in paths:\n",
        "            print(synset)"
      ],
      "metadata": {
        "id": "3HolcUySYXbb"
      },
      "execution_count": null,
      "outputs": []
    },
    {
      "cell_type": "markdown",
      "source": [
        "<h1>Problem 2</h1>"
      ],
      "metadata": {
        "id": "mIrQwgkQFxQS"
      }
    },
    {
      "cell_type": "code",
      "source": [
        "car_synsets = wn.synsets('car', 'n')\n",
        "\n",
        "lemma_names = []\n",
        "\n",
        "for synset in car_synsets:\n",
        "    for lemma in synset.lemmas():\n",
        "        lemma_names.append(lemma.name())\n",
        "\n",
        "lemma_frequency = {}\n",
        "\n",
        "for lemma_name in lemma_names:\n",
        "    if lemma_name in lemma_frequency:\n",
        "        lemma_frequency[lemma_name] += 1\n",
        "    else:\n",
        "        lemma_frequency[lemma_name] = 1\n",
        "\n",
        "lemma_frequency_list = list(lemma_frequency.items())\n",
        "\n",
        "sorted_lemma_frequency_list = sorted(lemma_frequency_list, key=lambda x: x[1], reverse=True)\n",
        "\n",
        "for rank, (lemma_name, freq) in enumerate(sorted_lemma_frequency_list, start=1):\n",
        "    print(f\"Rank {rank}: {lemma_name} (Frequency: {freq})\")"
      ],
      "metadata": {
        "colab": {
          "base_uri": "https://localhost:8080/"
        },
        "id": "jDZADLh_gLzF",
        "outputId": "43163f3b-11e3-400e-db7d-7e2dbf7d2ee6"
      },
      "execution_count": null,
      "outputs": [
        {
          "output_type": "stream",
          "name": "stdout",
          "text": [
            "Rank 1: car (Frequency: 5)\n",
            "Rank 2: auto (Frequency: 1)\n",
            "Rank 3: automobile (Frequency: 1)\n",
            "Rank 4: machine (Frequency: 1)\n",
            "Rank 5: motorcar (Frequency: 1)\n",
            "Rank 6: railcar (Frequency: 1)\n",
            "Rank 7: railway_car (Frequency: 1)\n",
            "Rank 8: railroad_car (Frequency: 1)\n",
            "Rank 9: gondola (Frequency: 1)\n",
            "Rank 10: elevator_car (Frequency: 1)\n",
            "Rank 11: cable_car (Frequency: 1)\n"
          ]
        }
      ]
    },
    {
      "cell_type": "markdown",
      "source": [
        "<h1>Problem 3</h1>"
      ],
      "metadata": {
        "id": "UG2zrF6sgxF4"
      }
    },
    {
      "cell_type": "markdown",
      "source": [
        "The reference link is now working."
      ],
      "metadata": {
        "id": "z3nBtwm3Qsx_"
      }
    },
    {
      "cell_type": "markdown",
      "source": [
        "<h1>Problem 4</h2>"
      ],
      "metadata": {
        "id": "IhVxKFGzMhXI"
      }
    },
    {
      "cell_type": "code",
      "source": [
        "T1 = 'Students feel unhappy today about the class today'\n",
        "T2 = 'Many students felt concepts of class test relevant'\n",
        "\n",
        "tokenizer = WordPunctTokenizer()\n",
        "\n",
        "token_sent_1 = tokenizer.tokenize(T1)\n",
        "token_sent_2 = tokenizer.tokenize(T2)\n",
        "\n",
        "token_sent_1  = [token.lower() for token in token_sent_1]\n",
        "token_sent_2  = [token.lower() for token in token_sent_2]\n",
        "\n",
        "stop_words = set(stopwords.words('english'))\n",
        "p_token_1 = [token for token in token_sent_1 if token not in stop_words]\n",
        "p_token_2 = [token for token in token_sent_2 if token not in stop_words]\n",
        "\n",
        "lemmatizer = WordNetLemmatizer()\n",
        "lemma_token_1 = [lemmatizer.lemmatize(word) for word in p_token_1]\n",
        "lemma_token_2 = [lemmatizer.lemmatize(word) for word in p_token_2]\n"
      ],
      "metadata": {
        "id": "vdcC1bpOMgpV",
        "colab": {
          "base_uri": "https://localhost:8080/"
        },
        "outputId": "e3fec8ba-1226-41ac-cc94-bafbd59c97da"
      },
      "execution_count": null,
      "outputs": [
        {
          "output_type": "stream",
          "name": "stdout",
          "text": [
            "['students', 'feel', 'unhappy', 'today', 'class', 'today']\n",
            "['student', 'feel', 'unhappy', 'today', 'class', 'today']\n"
          ]
        }
      ]
    },
    {
      "cell_type": "code",
      "source": [
        "def jSim(t1, t2):\n",
        "    s1 = set(t1)\n",
        "    s2 = set(t2)\n",
        "    jSim = len(s1.intersection(s2))/len(s1.union(s2))\n",
        "    return jSim\n",
        "\n",
        "sim_one = jSim(token_sent_1,token_sent_2)\n",
        "print('Similarity without processing:',sim_one)\n",
        "\n",
        "sim_two = jSim(p_token_1,p_token_2)\n",
        "print('Similarity after stopword removal:',sim_two)\n",
        "\n",
        "sim_three = jSim(lemma_token_1,lemma_token_2)\n",
        "print('Similarity after lemmatization:',sim_three)"
      ],
      "metadata": {
        "colab": {
          "base_uri": "https://localhost:8080/"
        },
        "id": "XyI3qqoXNkkZ",
        "outputId": "21e3623b-9ec4-4ee7-8962-3ebe798cead1"
      },
      "execution_count": null,
      "outputs": [
        {
          "output_type": "stream",
          "name": "stdout",
          "text": [
            "Similarity without processing: 0.15384615384615385\n",
            "Similarity after stopword removal: 0.2\n",
            "Similarity after lemmatization: 0.2\n"
          ]
        }
      ]
    },
    {
      "cell_type": "markdown",
      "source": [
        "<h1>Problem 5</h1>\n"
      ],
      "metadata": {
        "id": "mClQkZXeey_h"
      }
    },
    {
      "cell_type": "code",
      "source": [
        "token_sent_1 = tokenizer.tokenize(T1)\n",
        "token_sent_2 = tokenizer.tokenize(T2)\n",
        "\n",
        "token_sent_1  = [token.lower() for token in token_sent_1]\n",
        "token_sent_2  = [token.lower() for token in token_sent_2]\n",
        "\n",
        "stop_words = set(stopwords.words('english'))\n",
        "p_token_1 = [token for token in token_sent_1 if token not in stop_words]\n",
        "p_token_2 = [token for token in token_sent_2 if token not in stop_words]\n",
        "\n",
        "lemmatizer = WordNetLemmatizer()\n",
        "lemma_token_1 = [lemmatizer.lemmatize(word) for word in p_token_1]\n",
        "lemma_token_2 = [lemmatizer.lemmatize(word) for word in p_token_2]\n",
        "\n",
        "f_sim = fuzz.ratio(T1,T2)\n",
        "print('FuzzyWuzzy Similarity without processing:',f_sim)\n",
        "\n",
        "f_sim_one = fuzz.ratio(token_sent_1,token_sent_2)\n",
        "print('FuzzyWuzzy Similarity after  tokenization:',f_sim_one)\n",
        "\n",
        "f_sim_two = fuzz.ratio(p_token_1,p_token_2)\n",
        "print('FuzzyWuzzy Similarity after stopword removal:',f_sim_two)\n",
        "\n",
        "f_sim_three = fuzz.ratio(lemma_token_1,lemma_token_2)\n",
        "print('FuzzyWuzzy Similarity after lemmatization:',f_sim_three)"
      ],
      "metadata": {
        "colab": {
          "base_uri": "https://localhost:8080/"
        },
        "id": "mxN4SoFifbD6",
        "outputId": "23861cfe-e2aa-49d2-d893-050c97184d83"
      },
      "execution_count": null,
      "outputs": [
        {
          "output_type": "stream",
          "name": "stdout",
          "text": [
            "FuzzyWuzzy Similarity without processing: 46\n",
            "Similarity after  tokenization: 54\n",
            "Similarity after stopword removal: 65\n",
            "Similarity after lemmatization: 65\n"
          ]
        }
      ]
    },
    {
      "cell_type": "markdown",
      "source": [
        "<h1>Problem 6</h1>"
      ],
      "metadata": {
        "id": "Y_P0pWy9lx1L"
      }
    },
    {
      "cell_type": "code",
      "source": [
        "!pip install gensim"
      ],
      "metadata": {
        "colab": {
          "base_uri": "https://localhost:8080/"
        },
        "id": "w9gpSLmdyQEw",
        "outputId": "f44f7a64-64e5-4c77-d7ed-2a039bc819d3"
      },
      "execution_count": null,
      "outputs": [
        {
          "output_type": "stream",
          "name": "stdout",
          "text": [
            "Requirement already satisfied: gensim in /usr/local/lib/python3.10/dist-packages (4.3.2)\n",
            "Requirement already satisfied: numpy>=1.18.5 in /usr/local/lib/python3.10/dist-packages (from gensim) (1.23.5)\n",
            "Requirement already satisfied: scipy>=1.7.0 in /usr/local/lib/python3.10/dist-packages (from gensim) (1.11.3)\n",
            "Requirement already satisfied: smart-open>=1.8.1 in /usr/local/lib/python3.10/dist-packages (from gensim) (6.4.0)\n"
          ]
        }
      ]
    },
    {
      "cell_type": "markdown",
      "source": [
        "<h1>Fast Text</h1>"
      ],
      "metadata": {
        "id": "4DyGuEEx1QEs"
      }
    },
    {
      "cell_type": "code",
      "source": [
        "model = api.load('fasttext-wiki-news-subwords-300')\n",
        "\n",
        "def get_sent_embedding(text):\n",
        "    words = text.split()\n",
        "    embeddings = [model[word] for word in words if word in model]\n",
        "    if not embeddings:\n",
        "        return np.zeros(model.get_dimension())\n",
        "    return np.mean(embeddings, axis=0)\n",
        "\n",
        "embed_T1 = get_sent_embedding(T1)\n",
        "embed_T2 = get_sent_embedding(T2)\n",
        "\n",
        "embed_T1 = embed_T1.reshape(1, -1)\n",
        "embed_T2 = embed_T2.reshape(1, -1)\n",
        "\n",
        "similarity_score = cosine_similarity(embed_T1, embed_T2)\n",
        "\n",
        "print(\"T1:\", T1)\n",
        "print(\"T2:\", T2)\n",
        "print(\"Cosine Similarity Score:\", similarity_score[0][0])"
      ],
      "metadata": {
        "colab": {
          "base_uri": "https://localhost:8080/"
        },
        "id": "t5VIJc-ol4k5",
        "outputId": "cc4f7726-d6b3-453e-e1ad-3f7db8a2d261"
      },
      "execution_count": null,
      "outputs": [
        {
          "output_type": "stream",
          "name": "stdout",
          "text": [
            "T1: Students feel unhappy today about the class today\n",
            "T2: Many students felt concepts of class test relevant\n",
            "Cosine Similarity Score: 0.855396\n"
          ]
        }
      ]
    },
    {
      "cell_type": "markdown",
      "source": [
        "<h1>Problem 7</h1>"
      ],
      "metadata": {
        "id": "BfI8mVbVPRF4"
      }
    },
    {
      "cell_type": "markdown",
      "source": [
        "<h1>Glove</h1>"
      ],
      "metadata": {
        "id": "76dYv1Q61Wdz"
      }
    },
    {
      "cell_type": "code",
      "source": [
        "glove_wiki = api.load(\"glove-wiki-gigaword-50\")\n",
        "\n",
        "T1 = 'Students feel unhappy today about the class today'\n",
        "T2 = 'Many students felt concepts of class test relevant'\n",
        "\n",
        "def get_sent_embed(text):\n",
        "    words = text.split()\n",
        "    embeddings = [glove_wiki[word] for word in words if word in glove_wiki]\n",
        "    if not embeddings:\n",
        "        return np.zeros(glove_wiki.get_dimension())\n",
        "    return np.mean(embeddings, axis=0)\n",
        "\n",
        "embed_T1 = get_sent_embed(T1)\n",
        "embed_T2 = get_sent_embed(T2)\n",
        "\n",
        "embed_T1 = embed_T1.reshape(1, -1)\n",
        "embed_T2 = embed_T2.reshape(1, -1)\n",
        "\n",
        "similarity_score = cosine_similarity(embed_T1, embed_T2)\n",
        "\n",
        "print(\"T1:\", T1)\n",
        "print(\"T2:\", T2)\n",
        "print(\"Cosine Similarity Score:\", similarity_score[0][0])"
      ],
      "metadata": {
        "colab": {
          "base_uri": "https://localhost:8080/"
        },
        "id": "8_W4is1Xnpz_",
        "outputId": "8852cd1b-83ad-48b5-e87d-76b6b7175426"
      },
      "execution_count": null,
      "outputs": [
        {
          "output_type": "stream",
          "name": "stdout",
          "text": [
            "T1: Students feel unhappy today about the class today\n",
            "T2: Many students felt concepts of class test relevant\n",
            "Cosine Similarity Score: 0.87276214\n"
          ]
        }
      ]
    },
    {
      "cell_type": "markdown",
      "source": [
        "<h1>Word 2 Vec</h1>"
      ],
      "metadata": {
        "id": "ZFs6ZP3w1apU"
      }
    },
    {
      "cell_type": "code",
      "source": [
        "from gensim.models import Word2Vec\n",
        "\n",
        "model_w2v = api.load(\"word2vec-google-news-300\")\n",
        "\n",
        "T1 = 'Students feel unhappy today about the class today'\n",
        "T2 = 'Many students felt concepts of class test relevant'\n",
        "\n",
        "def get_sent_embed(text):\n",
        "    words = text.split()\n",
        "    embeddings = [model_w2v[word] for word in words if word in model_w2v]\n",
        "    if not embeddings:\n",
        "        return np.zeros(model_w2v.get_dimension())\n",
        "    return np.mean(embeddings, axis=0)\n",
        "\n",
        "embed_T1 = get_sent_embed(T1)\n",
        "embed_T2 = get_sent_embed(T2)\n",
        "\n",
        "embed_T1 = embed_T1.reshape(1, -1)\n",
        "embed_T2 = embed_T2.reshape(1, -1)\n",
        "\n",
        "similarity_score = cosine_similarity(embed_T1, embed_T2)\n",
        "\n",
        "print(\"T1:\", T1)\n",
        "print(\"T2:\", T2)\n",
        "print(\"Cosine Similarity Score:\", similarity_score[0][0])"
      ],
      "metadata": {
        "colab": {
          "base_uri": "https://localhost:8080/"
        },
        "id": "NDQYGkNTtYex",
        "outputId": "88a484c1-5c60-44f5-b57f-c65abda5648e"
      },
      "execution_count": null,
      "outputs": [
        {
          "output_type": "stream",
          "name": "stdout",
          "text": [
            "T1: Students feel unhappy today about the class today\n",
            "T2: Many students felt concepts of class test relevant\n",
            "Cosine Similarity Score: 0.6702926\n"
          ]
        }
      ]
    },
    {
      "cell_type": "markdown",
      "source": [
        "<h1>Problem 8</h2>"
      ],
      "metadata": {
        "id": "0vz4jA8W6gYu"
      }
    },
    {
      "cell_type": "code",
      "source": [
        "import pandas as pd\n",
        "\n",
        "df = pd.read_csv('questions_sample.csv')"
      ],
      "metadata": {
        "id": "FEi_mdGctrXx"
      },
      "execution_count": null,
      "outputs": []
    },
    {
      "cell_type": "markdown",
      "source": [
        "<h1>Pre Processing</h1>"
      ],
      "metadata": {
        "id": "AIoaqZLXKiIz"
      }
    },
    {
      "cell_type": "code",
      "source": [
        "stop_words = set(stopwords.words('english'))\n",
        "lemmatizer = WordNetLemmatizer()\n",
        "\n",
        "\n",
        "def clean(text):\n",
        "    text = re.sub(r'[^a-zA-Z\\s]', '', text)\n",
        "    words = text.lower().split()\n",
        "    words = [lemmatizer.lemmatize(word) for word in words if word not in stop_words]\n",
        "    cleaned_text = ' '.join(words)\n",
        "    return cleaned_text\n",
        "\n",
        "\n",
        "df['question1'] = df['question1'].apply(clean)\n",
        "df['question2'] = df['question2'].apply(clean)\n"
      ],
      "metadata": {
        "id": "m5umTjUY6j2H"
      },
      "execution_count": null,
      "outputs": []
    },
    {
      "cell_type": "code",
      "source": [
        "#FuzzyWuzzy Similarity\n",
        "df['fuzzyWuzzyRatio'] = df.apply(lambda row: fuzz.ratio(str(row['question1']), str(row['question2'])), axis=1)"
      ],
      "metadata": {
        "id": "674Pi32A74Mu"
      },
      "execution_count": null,
      "outputs": []
    },
    {
      "cell_type": "code",
      "source": [
        "#FastText similarity\n",
        "\n",
        "def calculate_ft_similarity(row):\n",
        "    sentence1 = row['question1']\n",
        "    sentence2 = row['question2']\n",
        "\n",
        "    tokens1 = sentence1.split()\n",
        "    tokens2 = sentence2.split()\n",
        "\n",
        "\n",
        "    vec1 = get_sentence_vector(tokens1, model)\n",
        "    vec2 = get_sentence_vector(tokens2, model)\n",
        "\n",
        "\n",
        "    similarity = np.dot(vec1, vec2) / (np.linalg.norm(vec1) * np.linalg.norm(vec2))\n",
        "\n",
        "    return similarity\n",
        "\n",
        "\n",
        "def get_sentence_vector(tokens, model):\n",
        "    vectors = [model.get_vector(token) for token in tokens if token in model]\n",
        "\n",
        "    if not vectors:\n",
        "        return np.zeros(model.vector_size)\n",
        "\n",
        "    return np.mean(vectors, axis=0)\n",
        "\n",
        "\n",
        "df['FastText'] = df.apply(calculate_ft_similarity, axis=1)\n"
      ],
      "metadata": {
        "id": "4iqGkK9lCTrT"
      },
      "execution_count": null,
      "outputs": []
    },
    {
      "cell_type": "code",
      "source": [
        "#Word2Vec\n",
        "def calculate_ft_similarity(row):\n",
        "    sentence1 = row['question1']\n",
        "    sentence2 = row['question2']\n",
        "\n",
        "    tokens1 = sentence1.split()\n",
        "    tokens2 = sentence2.split()\n",
        "\n",
        "    vec1 = get_sentence_vector(tokens1, model_w2v)\n",
        "    vec2 = get_sentence_vector(tokens2, model_w2v)\n",
        "\n",
        "    similarity = np.dot(vec1, vec2) / (np.linalg.norm(vec1) * np.linalg.norm(vec2))\n",
        "\n",
        "    return similarity\n",
        "\n",
        "def get_sentence_vector(tokens, model_w2v):\n",
        "    vectors = [model_w2v.get_vector(token) for token in tokens if token in model_w2v]\n",
        "\n",
        "    if not vectors:\n",
        "        return np.zeros(model_w2v.vector_size)\n",
        "\n",
        "    return np.mean(vectors, axis=0)\n",
        "\n",
        "df['word2vec'] = df.apply(calculate_ft_similarity, axis=1)"
      ],
      "metadata": {
        "id": "MMfiF0DFQCCh"
      },
      "execution_count": null,
      "outputs": []
    },
    {
      "cell_type": "code",
      "source": [
        "df"
      ],
      "metadata": {
        "colab": {
          "base_uri": "https://localhost:8080/",
          "height": 424
        },
        "id": "c4TOF1wxKGeo",
        "outputId": "29cc6958-d506-451e-defd-03965c932220"
      },
      "execution_count": null,
      "outputs": [
        {
          "output_type": "execute_result",
          "data": {
            "text/plain": [
              "      id  qid1  qid2                                          question1  \\\n",
              "0      0     1     2          step step guide invest share market india   \n",
              "1      1     3     4                    story kohinoor kohinoor diamond   \n",
              "2      2     5     6       increase speed internet connection using vpn   \n",
              "3      3     7     8                              mentally lonely solve   \n",
              "4      4     9    10  one dissolve water quikly sugar salt methane c...   \n",
              "..   ...   ...   ...                                                ...   \n",
              "194  194   389   390                         take screenshot mac laptop   \n",
              "195  195   391   392                      work executive recruiter like   \n",
              "196  196   393   394              psychological need collecting fulfill   \n",
              "197  197   395   396                             must watch tv show die   \n",
              "198  198   397   398                              become fluent chinese   \n",
              "\n",
              "                                             question2  is_duplicate  \\\n",
              "0                  step step guide invest share market             0   \n",
              "1    would happen indian government stole kohinoor ...             0   \n",
              "2                 internet speed increased hacking dns             0   \n",
              "3                      find remainder mathmath divided             0   \n",
              "4                        fish would survive salt water             0   \n",
              "..                                                 ...           ...   \n",
              "194            take screenshot macbook pro instruction             1   \n",
              "195                      like work executive recruiter             0   \n",
              "196                               people collect thing             0   \n",
              "197                                 must watch tv show             1   \n",
              "198                              become fluent chinese             1   \n",
              "\n",
              "     fuzzyWuzzyRatio  FastText  word2vec  \n",
              "0                 92  0.979843  0.931028  \n",
              "1                 59  0.709728  0.487836  \n",
              "2                 55  0.890182  0.777991  \n",
              "3                 23  0.659519  0.278192  \n",
              "4                 25  0.787863  0.630007  \n",
              "..               ...       ...       ...  \n",
              "194               71  0.792850  0.789445  \n",
              "195               83  1.000000  1.000000  \n",
              "196               53  0.738503  0.469819  \n",
              "197               90  0.961655  0.929026  \n",
              "198              100  1.000000  1.000000  \n",
              "\n",
              "[199 rows x 9 columns]"
            ],
            "text/html": [
              "\n",
              "  <div id=\"df-9238a8e8-7033-4985-93d4-d22387149ec5\" class=\"colab-df-container\">\n",
              "    <div>\n",
              "<style scoped>\n",
              "    .dataframe tbody tr th:only-of-type {\n",
              "        vertical-align: middle;\n",
              "    }\n",
              "\n",
              "    .dataframe tbody tr th {\n",
              "        vertical-align: top;\n",
              "    }\n",
              "\n",
              "    .dataframe thead th {\n",
              "        text-align: right;\n",
              "    }\n",
              "</style>\n",
              "<table border=\"1\" class=\"dataframe\">\n",
              "  <thead>\n",
              "    <tr style=\"text-align: right;\">\n",
              "      <th></th>\n",
              "      <th>id</th>\n",
              "      <th>qid1</th>\n",
              "      <th>qid2</th>\n",
              "      <th>question1</th>\n",
              "      <th>question2</th>\n",
              "      <th>is_duplicate</th>\n",
              "      <th>fuzzyWuzzyRatio</th>\n",
              "      <th>FastText</th>\n",
              "      <th>word2vec</th>\n",
              "    </tr>\n",
              "  </thead>\n",
              "  <tbody>\n",
              "    <tr>\n",
              "      <th>0</th>\n",
              "      <td>0</td>\n",
              "      <td>1</td>\n",
              "      <td>2</td>\n",
              "      <td>step step guide invest share market india</td>\n",
              "      <td>step step guide invest share market</td>\n",
              "      <td>0</td>\n",
              "      <td>92</td>\n",
              "      <td>0.979843</td>\n",
              "      <td>0.931028</td>\n",
              "    </tr>\n",
              "    <tr>\n",
              "      <th>1</th>\n",
              "      <td>1</td>\n",
              "      <td>3</td>\n",
              "      <td>4</td>\n",
              "      <td>story kohinoor kohinoor diamond</td>\n",
              "      <td>would happen indian government stole kohinoor ...</td>\n",
              "      <td>0</td>\n",
              "      <td>59</td>\n",
              "      <td>0.709728</td>\n",
              "      <td>0.487836</td>\n",
              "    </tr>\n",
              "    <tr>\n",
              "      <th>2</th>\n",
              "      <td>2</td>\n",
              "      <td>5</td>\n",
              "      <td>6</td>\n",
              "      <td>increase speed internet connection using vpn</td>\n",
              "      <td>internet speed increased hacking dns</td>\n",
              "      <td>0</td>\n",
              "      <td>55</td>\n",
              "      <td>0.890182</td>\n",
              "      <td>0.777991</td>\n",
              "    </tr>\n",
              "    <tr>\n",
              "      <th>3</th>\n",
              "      <td>3</td>\n",
              "      <td>7</td>\n",
              "      <td>8</td>\n",
              "      <td>mentally lonely solve</td>\n",
              "      <td>find remainder mathmath divided</td>\n",
              "      <td>0</td>\n",
              "      <td>23</td>\n",
              "      <td>0.659519</td>\n",
              "      <td>0.278192</td>\n",
              "    </tr>\n",
              "    <tr>\n",
              "      <th>4</th>\n",
              "      <td>4</td>\n",
              "      <td>9</td>\n",
              "      <td>10</td>\n",
              "      <td>one dissolve water quikly sugar salt methane c...</td>\n",
              "      <td>fish would survive salt water</td>\n",
              "      <td>0</td>\n",
              "      <td>25</td>\n",
              "      <td>0.787863</td>\n",
              "      <td>0.630007</td>\n",
              "    </tr>\n",
              "    <tr>\n",
              "      <th>...</th>\n",
              "      <td>...</td>\n",
              "      <td>...</td>\n",
              "      <td>...</td>\n",
              "      <td>...</td>\n",
              "      <td>...</td>\n",
              "      <td>...</td>\n",
              "      <td>...</td>\n",
              "      <td>...</td>\n",
              "      <td>...</td>\n",
              "    </tr>\n",
              "    <tr>\n",
              "      <th>194</th>\n",
              "      <td>194</td>\n",
              "      <td>389</td>\n",
              "      <td>390</td>\n",
              "      <td>take screenshot mac laptop</td>\n",
              "      <td>take screenshot macbook pro instruction</td>\n",
              "      <td>1</td>\n",
              "      <td>71</td>\n",
              "      <td>0.792850</td>\n",
              "      <td>0.789445</td>\n",
              "    </tr>\n",
              "    <tr>\n",
              "      <th>195</th>\n",
              "      <td>195</td>\n",
              "      <td>391</td>\n",
              "      <td>392</td>\n",
              "      <td>work executive recruiter like</td>\n",
              "      <td>like work executive recruiter</td>\n",
              "      <td>0</td>\n",
              "      <td>83</td>\n",
              "      <td>1.000000</td>\n",
              "      <td>1.000000</td>\n",
              "    </tr>\n",
              "    <tr>\n",
              "      <th>196</th>\n",
              "      <td>196</td>\n",
              "      <td>393</td>\n",
              "      <td>394</td>\n",
              "      <td>psychological need collecting fulfill</td>\n",
              "      <td>people collect thing</td>\n",
              "      <td>0</td>\n",
              "      <td>53</td>\n",
              "      <td>0.738503</td>\n",
              "      <td>0.469819</td>\n",
              "    </tr>\n",
              "    <tr>\n",
              "      <th>197</th>\n",
              "      <td>197</td>\n",
              "      <td>395</td>\n",
              "      <td>396</td>\n",
              "      <td>must watch tv show die</td>\n",
              "      <td>must watch tv show</td>\n",
              "      <td>1</td>\n",
              "      <td>90</td>\n",
              "      <td>0.961655</td>\n",
              "      <td>0.929026</td>\n",
              "    </tr>\n",
              "    <tr>\n",
              "      <th>198</th>\n",
              "      <td>198</td>\n",
              "      <td>397</td>\n",
              "      <td>398</td>\n",
              "      <td>become fluent chinese</td>\n",
              "      <td>become fluent chinese</td>\n",
              "      <td>1</td>\n",
              "      <td>100</td>\n",
              "      <td>1.000000</td>\n",
              "      <td>1.000000</td>\n",
              "    </tr>\n",
              "  </tbody>\n",
              "</table>\n",
              "<p>199 rows × 9 columns</p>\n",
              "</div>\n",
              "    <div class=\"colab-df-buttons\">\n",
              "\n",
              "  <div class=\"colab-df-container\">\n",
              "    <button class=\"colab-df-convert\" onclick=\"convertToInteractive('df-9238a8e8-7033-4985-93d4-d22387149ec5')\"\n",
              "            title=\"Convert this dataframe to an interactive table.\"\n",
              "            style=\"display:none;\">\n",
              "\n",
              "  <svg xmlns=\"http://www.w3.org/2000/svg\" height=\"24px\" viewBox=\"0 -960 960 960\">\n",
              "    <path d=\"M120-120v-720h720v720H120Zm60-500h600v-160H180v160Zm220 220h160v-160H400v160Zm0 220h160v-160H400v160ZM180-400h160v-160H180v160Zm440 0h160v-160H620v160ZM180-180h160v-160H180v160Zm440 0h160v-160H620v160Z\"/>\n",
              "  </svg>\n",
              "    </button>\n",
              "\n",
              "  <style>\n",
              "    .colab-df-container {\n",
              "      display:flex;\n",
              "      gap: 12px;\n",
              "    }\n",
              "\n",
              "    .colab-df-convert {\n",
              "      background-color: #E8F0FE;\n",
              "      border: none;\n",
              "      border-radius: 50%;\n",
              "      cursor: pointer;\n",
              "      display: none;\n",
              "      fill: #1967D2;\n",
              "      height: 32px;\n",
              "      padding: 0 0 0 0;\n",
              "      width: 32px;\n",
              "    }\n",
              "\n",
              "    .colab-df-convert:hover {\n",
              "      background-color: #E2EBFA;\n",
              "      box-shadow: 0px 1px 2px rgba(60, 64, 67, 0.3), 0px 1px 3px 1px rgba(60, 64, 67, 0.15);\n",
              "      fill: #174EA6;\n",
              "    }\n",
              "\n",
              "    .colab-df-buttons div {\n",
              "      margin-bottom: 4px;\n",
              "    }\n",
              "\n",
              "    [theme=dark] .colab-df-convert {\n",
              "      background-color: #3B4455;\n",
              "      fill: #D2E3FC;\n",
              "    }\n",
              "\n",
              "    [theme=dark] .colab-df-convert:hover {\n",
              "      background-color: #434B5C;\n",
              "      box-shadow: 0px 1px 3px 1px rgba(0, 0, 0, 0.15);\n",
              "      filter: drop-shadow(0px 1px 2px rgba(0, 0, 0, 0.3));\n",
              "      fill: #FFFFFF;\n",
              "    }\n",
              "  </style>\n",
              "\n",
              "    <script>\n",
              "      const buttonEl =\n",
              "        document.querySelector('#df-9238a8e8-7033-4985-93d4-d22387149ec5 button.colab-df-convert');\n",
              "      buttonEl.style.display =\n",
              "        google.colab.kernel.accessAllowed ? 'block' : 'none';\n",
              "\n",
              "      async function convertToInteractive(key) {\n",
              "        const element = document.querySelector('#df-9238a8e8-7033-4985-93d4-d22387149ec5');\n",
              "        const dataTable =\n",
              "          await google.colab.kernel.invokeFunction('convertToInteractive',\n",
              "                                                    [key], {});\n",
              "        if (!dataTable) return;\n",
              "\n",
              "        const docLinkHtml = 'Like what you see? Visit the ' +\n",
              "          '<a target=\"_blank\" href=https://colab.research.google.com/notebooks/data_table.ipynb>data table notebook</a>'\n",
              "          + ' to learn more about interactive tables.';\n",
              "        element.innerHTML = '';\n",
              "        dataTable['output_type'] = 'display_data';\n",
              "        await google.colab.output.renderOutput(dataTable, element);\n",
              "        const docLink = document.createElement('div');\n",
              "        docLink.innerHTML = docLinkHtml;\n",
              "        element.appendChild(docLink);\n",
              "      }\n",
              "    </script>\n",
              "  </div>\n",
              "\n",
              "\n",
              "<div id=\"df-cd06549e-b71f-4cef-8d88-092e953d3341\">\n",
              "  <button class=\"colab-df-quickchart\" onclick=\"quickchart('df-cd06549e-b71f-4cef-8d88-092e953d3341')\"\n",
              "            title=\"Suggest charts.\"\n",
              "            style=\"display:none;\">\n",
              "\n",
              "<svg xmlns=\"http://www.w3.org/2000/svg\" height=\"24px\"viewBox=\"0 0 24 24\"\n",
              "     width=\"24px\">\n",
              "    <g>\n",
              "        <path d=\"M19 3H5c-1.1 0-2 .9-2 2v14c0 1.1.9 2 2 2h14c1.1 0 2-.9 2-2V5c0-1.1-.9-2-2-2zM9 17H7v-7h2v7zm4 0h-2V7h2v10zm4 0h-2v-4h2v4z\"/>\n",
              "    </g>\n",
              "</svg>\n",
              "  </button>\n",
              "\n",
              "<style>\n",
              "  .colab-df-quickchart {\n",
              "      --bg-color: #E8F0FE;\n",
              "      --fill-color: #1967D2;\n",
              "      --hover-bg-color: #E2EBFA;\n",
              "      --hover-fill-color: #174EA6;\n",
              "      --disabled-fill-color: #AAA;\n",
              "      --disabled-bg-color: #DDD;\n",
              "  }\n",
              "\n",
              "  [theme=dark] .colab-df-quickchart {\n",
              "      --bg-color: #3B4455;\n",
              "      --fill-color: #D2E3FC;\n",
              "      --hover-bg-color: #434B5C;\n",
              "      --hover-fill-color: #FFFFFF;\n",
              "      --disabled-bg-color: #3B4455;\n",
              "      --disabled-fill-color: #666;\n",
              "  }\n",
              "\n",
              "  .colab-df-quickchart {\n",
              "    background-color: var(--bg-color);\n",
              "    border: none;\n",
              "    border-radius: 50%;\n",
              "    cursor: pointer;\n",
              "    display: none;\n",
              "    fill: var(--fill-color);\n",
              "    height: 32px;\n",
              "    padding: 0;\n",
              "    width: 32px;\n",
              "  }\n",
              "\n",
              "  .colab-df-quickchart:hover {\n",
              "    background-color: var(--hover-bg-color);\n",
              "    box-shadow: 0 1px 2px rgba(60, 64, 67, 0.3), 0 1px 3px 1px rgba(60, 64, 67, 0.15);\n",
              "    fill: var(--button-hover-fill-color);\n",
              "  }\n",
              "\n",
              "  .colab-df-quickchart-complete:disabled,\n",
              "  .colab-df-quickchart-complete:disabled:hover {\n",
              "    background-color: var(--disabled-bg-color);\n",
              "    fill: var(--disabled-fill-color);\n",
              "    box-shadow: none;\n",
              "  }\n",
              "\n",
              "  .colab-df-spinner {\n",
              "    border: 2px solid var(--fill-color);\n",
              "    border-color: transparent;\n",
              "    border-bottom-color: var(--fill-color);\n",
              "    animation:\n",
              "      spin 1s steps(1) infinite;\n",
              "  }\n",
              "\n",
              "  @keyframes spin {\n",
              "    0% {\n",
              "      border-color: transparent;\n",
              "      border-bottom-color: var(--fill-color);\n",
              "      border-left-color: var(--fill-color);\n",
              "    }\n",
              "    20% {\n",
              "      border-color: transparent;\n",
              "      border-left-color: var(--fill-color);\n",
              "      border-top-color: var(--fill-color);\n",
              "    }\n",
              "    30% {\n",
              "      border-color: transparent;\n",
              "      border-left-color: var(--fill-color);\n",
              "      border-top-color: var(--fill-color);\n",
              "      border-right-color: var(--fill-color);\n",
              "    }\n",
              "    40% {\n",
              "      border-color: transparent;\n",
              "      border-right-color: var(--fill-color);\n",
              "      border-top-color: var(--fill-color);\n",
              "    }\n",
              "    60% {\n",
              "      border-color: transparent;\n",
              "      border-right-color: var(--fill-color);\n",
              "    }\n",
              "    80% {\n",
              "      border-color: transparent;\n",
              "      border-right-color: var(--fill-color);\n",
              "      border-bottom-color: var(--fill-color);\n",
              "    }\n",
              "    90% {\n",
              "      border-color: transparent;\n",
              "      border-bottom-color: var(--fill-color);\n",
              "    }\n",
              "  }\n",
              "</style>\n",
              "\n",
              "  <script>\n",
              "    async function quickchart(key) {\n",
              "      const quickchartButtonEl =\n",
              "        document.querySelector('#' + key + ' button');\n",
              "      quickchartButtonEl.disabled = true;  // To prevent multiple clicks.\n",
              "      quickchartButtonEl.classList.add('colab-df-spinner');\n",
              "      try {\n",
              "        const charts = await google.colab.kernel.invokeFunction(\n",
              "            'suggestCharts', [key], {});\n",
              "      } catch (error) {\n",
              "        console.error('Error during call to suggestCharts:', error);\n",
              "      }\n",
              "      quickchartButtonEl.classList.remove('colab-df-spinner');\n",
              "      quickchartButtonEl.classList.add('colab-df-quickchart-complete');\n",
              "    }\n",
              "    (() => {\n",
              "      let quickchartButtonEl =\n",
              "        document.querySelector('#df-cd06549e-b71f-4cef-8d88-092e953d3341 button');\n",
              "      quickchartButtonEl.style.display =\n",
              "        google.colab.kernel.accessAllowed ? 'block' : 'none';\n",
              "    })();\n",
              "  </script>\n",
              "</div>\n",
              "    </div>\n",
              "  </div>\n"
            ]
          },
          "metadata": {},
          "execution_count": 110
        }
      ]
    }
  ]
}